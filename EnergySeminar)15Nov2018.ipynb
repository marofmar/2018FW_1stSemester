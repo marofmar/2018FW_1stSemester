{
 "cells": [
  {
   "cell_type": "code",
   "execution_count": 1,
   "metadata": {},
   "outputs": [],
   "source": [
    "import numpy as np\n",
    "import pandas as pd"
   ]
  },
  {
   "cell_type": "markdown",
   "metadata": {},
   "source": [
    "# 데이터 불러오고 정리"
   ]
  },
  {
   "cell_type": "code",
   "execution_count": 2,
   "metadata": {},
   "outputs": [],
   "source": [
    "dataset = pd.read_csv(\"dataset.csv\")"
   ]
  },
  {
   "cell_type": "code",
   "execution_count": 3,
   "metadata": {},
   "outputs": [
    {
     "data": {
      "text/plain": [
       "pandas.core.frame.DataFrame"
      ]
     },
     "execution_count": 3,
     "metadata": {},
     "output_type": "execute_result"
    }
   ],
   "source": [
    "type(dataset)"
   ]
  },
  {
   "cell_type": "code",
   "execution_count": 4,
   "metadata": {},
   "outputs": [
    {
     "data": {
      "text/html": [
       "<div>\n",
       "<style scoped>\n",
       "    .dataframe tbody tr th:only-of-type {\n",
       "        vertical-align: middle;\n",
       "    }\n",
       "\n",
       "    .dataframe tbody tr th {\n",
       "        vertical-align: top;\n",
       "    }\n",
       "\n",
       "    .dataframe thead th {\n",
       "        text-align: right;\n",
       "    }\n",
       "</style>\n",
       "<table border=\"1\" class=\"dataframe\">\n",
       "  <thead>\n",
       "    <tr style=\"text-align: right;\">\n",
       "      <th></th>\n",
       "      <th>Unnamed: 0</th>\n",
       "      <th>YMD</th>\n",
       "      <th>year</th>\n",
       "      <th>month</th>\n",
       "      <th>day</th>\n",
       "      <th>24h</th>\n",
       "      <th>7days</th>\n",
       "      <th>elec</th>\n",
       "      <th>01March</th>\n",
       "    </tr>\n",
       "  </thead>\n",
       "  <tbody>\n",
       "    <tr>\n",
       "      <th>0</th>\n",
       "      <td>1</td>\n",
       "      <td>day20100101</td>\n",
       "      <td>2010</td>\n",
       "      <td>1</td>\n",
       "      <td>1</td>\n",
       "      <td>0</td>\n",
       "      <td>5</td>\n",
       "      <td>56391.0</td>\n",
       "      <td>0</td>\n",
       "    </tr>\n",
       "    <tr>\n",
       "      <th>1</th>\n",
       "      <td>2</td>\n",
       "      <td>day20100101</td>\n",
       "      <td>2010</td>\n",
       "      <td>1</td>\n",
       "      <td>1</td>\n",
       "      <td>1</td>\n",
       "      <td>5</td>\n",
       "      <td>54439.0</td>\n",
       "      <td>0</td>\n",
       "    </tr>\n",
       "  </tbody>\n",
       "</table>\n",
       "</div>"
      ],
      "text/plain": [
       "   Unnamed: 0          YMD  year  month  day  24h  7days     elec  01March\n",
       "0           1  day20100101  2010      1    1    0      5  56391.0        0\n",
       "1           2  day20100101  2010      1    1    1      5  54439.0        0"
      ]
     },
     "execution_count": 4,
     "metadata": {},
     "output_type": "execute_result"
    }
   ],
   "source": [
    "dataset.head(2)"
   ]
  },
  {
   "cell_type": "code",
   "execution_count": 5,
   "metadata": {},
   "outputs": [],
   "source": [
    "dataset.drop('Unnamed: 0', axis =1, inplace = True)"
   ]
  },
  {
   "cell_type": "code",
   "execution_count": 6,
   "metadata": {},
   "outputs": [
    {
     "data": {
      "text/html": [
       "<div>\n",
       "<style scoped>\n",
       "    .dataframe tbody tr th:only-of-type {\n",
       "        vertical-align: middle;\n",
       "    }\n",
       "\n",
       "    .dataframe tbody tr th {\n",
       "        vertical-align: top;\n",
       "    }\n",
       "\n",
       "    .dataframe thead th {\n",
       "        text-align: right;\n",
       "    }\n",
       "</style>\n",
       "<table border=\"1\" class=\"dataframe\">\n",
       "  <thead>\n",
       "    <tr style=\"text-align: right;\">\n",
       "      <th></th>\n",
       "      <th>YMD</th>\n",
       "      <th>year</th>\n",
       "      <th>month</th>\n",
       "      <th>day</th>\n",
       "      <th>24h</th>\n",
       "      <th>7days</th>\n",
       "      <th>elec</th>\n",
       "      <th>01March</th>\n",
       "    </tr>\n",
       "  </thead>\n",
       "  <tbody>\n",
       "    <tr>\n",
       "      <th>0</th>\n",
       "      <td>day20100101</td>\n",
       "      <td>2010</td>\n",
       "      <td>1</td>\n",
       "      <td>1</td>\n",
       "      <td>0</td>\n",
       "      <td>5</td>\n",
       "      <td>56391.0</td>\n",
       "      <td>0</td>\n",
       "    </tr>\n",
       "    <tr>\n",
       "      <th>1</th>\n",
       "      <td>day20100101</td>\n",
       "      <td>2010</td>\n",
       "      <td>1</td>\n",
       "      <td>1</td>\n",
       "      <td>1</td>\n",
       "      <td>5</td>\n",
       "      <td>54439.0</td>\n",
       "      <td>0</td>\n",
       "    </tr>\n",
       "    <tr>\n",
       "      <th>2</th>\n",
       "      <td>day20100101</td>\n",
       "      <td>2010</td>\n",
       "      <td>1</td>\n",
       "      <td>1</td>\n",
       "      <td>2</td>\n",
       "      <td>5</td>\n",
       "      <td>52682.0</td>\n",
       "      <td>0</td>\n",
       "    </tr>\n",
       "  </tbody>\n",
       "</table>\n",
       "</div>"
      ],
      "text/plain": [
       "           YMD  year  month  day  24h  7days     elec  01March\n",
       "0  day20100101  2010      1    1    0      5  56391.0        0\n",
       "1  day20100101  2010      1    1    1      5  54439.0        0\n",
       "2  day20100101  2010      1    1    2      5  52682.0        0"
      ]
     },
     "execution_count": 6,
     "metadata": {},
     "output_type": "execute_result"
    }
   ],
   "source": [
    "dataset.head(3)"
   ]
  },
  {
   "cell_type": "markdown",
   "metadata": {},
   "source": [
    "# 데이터 일자로 나누고 딕셔너리"
   ]
  },
  {
   "cell_type": "code",
   "execution_count": 7,
   "metadata": {},
   "outputs": [],
   "source": [
    "def split(df):\n",
    "    #create unique list of names\n",
    "    UniqueDays = df.YMD.unique()\n",
    "\n",
    "    #create a data frame dictionary to store your data frames\n",
    "    DataFrameDict = {elem : pd.DataFrame for elem in UniqueDays}\n",
    "\n",
    "    for key in DataFrameDict.keys():\n",
    "        DataFrameDict[key] = df[:][df.YMD == key]\n",
    "    return DataFrameDict"
   ]
  },
  {
   "cell_type": "code",
   "execution_count": 8,
   "metadata": {},
   "outputs": [
    {
     "name": "stdout",
     "output_type": "stream",
     "text": [
      "--- 16.775919914245605 seconds ---\n"
     ]
    }
   ],
   "source": [
    "import time\n",
    "start_time = time.time()\n",
    "\n",
    "#work\n",
    "dataset_dict= split(dataset)\n",
    "\n",
    "print(\"--- %s seconds ---\" % (time.time() - start_time))\n"
   ]
  },
  {
   "cell_type": "code",
   "execution_count": 9,
   "metadata": {},
   "outputs": [
    {
     "data": {
      "text/plain": [
       "dict"
      ]
     },
     "execution_count": 9,
     "metadata": {},
     "output_type": "execute_result"
    }
   ],
   "source": [
    "type(dataset_dict)"
   ]
  },
  {
   "cell_type": "code",
   "execution_count": 10,
   "metadata": {},
   "outputs": [],
   "source": [
    "dataset_dict_keys = list(dataset_dict.keys())"
   ]
  },
  {
   "cell_type": "code",
   "execution_count": 11,
   "metadata": {},
   "outputs": [],
   "source": [
    "dataset_dict_values = list(dataset_dict.values())"
   ]
  },
  {
   "cell_type": "code",
   "execution_count": 12,
   "metadata": {},
   "outputs": [
    {
     "data": {
      "text/plain": [
       "42471.0"
      ]
     },
     "execution_count": 12,
     "metadata": {},
     "output_type": "execute_result"
    }
   ],
   "source": [
    "dataset_dict_values[0]['elec'][9]"
   ]
  },
  {
   "cell_type": "code",
   "execution_count": 13,
   "metadata": {},
   "outputs": [
    {
     "data": {
      "text/plain": [
       "42471.0"
      ]
     },
     "execution_count": 13,
     "metadata": {},
     "output_type": "execute_result"
    }
   ],
   "source": [
    "dataset_dict[dataset_dict_keys[0]].elec.min()"
   ]
  },
  {
   "cell_type": "code",
   "execution_count": 14,
   "metadata": {},
   "outputs": [],
   "source": [
    "small = []\n",
    "for i in range(len(dataset_dict)):\n",
    "    small.append(dataset_dict[dataset_dict_keys[i]].elec.min())"
   ]
  },
  {
   "cell_type": "code",
   "execution_count": 15,
   "metadata": {},
   "outputs": [],
   "source": [
    "#len(small)"
   ]
  },
  {
   "cell_type": "code",
   "execution_count": 16,
   "metadata": {},
   "outputs": [],
   "source": [
    "#small"
   ]
  },
  {
   "cell_type": "code",
   "execution_count": 17,
   "metadata": {},
   "outputs": [],
   "source": [
    "big = []\n",
    "for i in range(len(dataset_dict)):\n",
    "    big.append(dataset_dict[dataset_dict_keys[i]].elec.max())"
   ]
  },
  {
   "cell_type": "code",
   "execution_count": 18,
   "metadata": {
    "scrolled": true
   },
   "outputs": [],
   "source": [
    "#big"
   ]
  },
  {
   "cell_type": "code",
   "execution_count": 19,
   "metadata": {},
   "outputs": [],
   "source": [
    "#len(big)"
   ]
  },
  {
   "cell_type": "code",
   "execution_count": 20,
   "metadata": {},
   "outputs": [],
   "source": [
    "vol = []\n",
    "for i in range(len(dataset_dict)):\n",
    "    vol.append(dataset_dict[dataset_dict_keys[i]].elec.sum())"
   ]
  },
  {
   "cell_type": "code",
   "execution_count": 21,
   "metadata": {},
   "outputs": [],
   "source": [
    "#vol"
   ]
  },
  {
   "cell_type": "code",
   "execution_count": 22,
   "metadata": {},
   "outputs": [],
   "source": [
    "#len(vol)"
   ]
  },
  {
   "cell_type": "code",
   "execution_count": 23,
   "metadata": {},
   "outputs": [],
   "source": [
    "avg = []\n",
    "for i in range(len(dataset_dict)):\n",
    "    avg.append(dataset_dict[dataset_dict_keys[i]].elec.mean())"
   ]
  },
  {
   "cell_type": "code",
   "execution_count": 24,
   "metadata": {
    "scrolled": true
   },
   "outputs": [],
   "source": [
    "#avg"
   ]
  },
  {
   "cell_type": "code",
   "execution_count": 25,
   "metadata": {},
   "outputs": [],
   "source": [
    "#len(avg)"
   ]
  },
  {
   "cell_type": "code",
   "execution_count": 26,
   "metadata": {},
   "outputs": [],
   "source": [
    "#시간! 아침\n",
    "nine_a = []\n",
    "for i in range(len(dataset_dict)):\n",
    "    e_ = np.asarray(dataset_dict[dataset_dict_keys[i]].elec)\n",
    "    nine_a.append(e_[9])"
   ]
  },
  {
   "cell_type": "code",
   "execution_count": 27,
   "metadata": {},
   "outputs": [],
   "source": [
    "#nine_a"
   ]
  },
  {
   "cell_type": "code",
   "execution_count": 28,
   "metadata": {},
   "outputs": [],
   "source": [
    "#시간! 저녁\n",
    "nine_p = []\n",
    "for i in range(len(dataset_dict)):\n",
    "    e_ = np.asarray(dataset_dict[dataset_dict_keys[i]].elec)\n",
    "    nine_p.append(e_[21])"
   ]
  },
  {
   "cell_type": "code",
   "execution_count": 29,
   "metadata": {},
   "outputs": [],
   "source": [
    "#nine_p"
   ]
  },
  {
   "cell_type": "code",
   "execution_count": 30,
   "metadata": {},
   "outputs": [],
   "source": [
    "#len(nine_a)"
   ]
  },
  {
   "cell_type": "code",
   "execution_count": 31,
   "metadata": {},
   "outputs": [],
   "source": [
    "#len(nine_p)"
   ]
  },
  {
   "cell_type": "code",
   "execution_count": 32,
   "metadata": {},
   "outputs": [],
   "source": [
    "days = []\n",
    "for i in range(len(dataset_dict)):\n",
    "    days.append(dataset_dict[dataset_dict_keys[i]])"
   ]
  },
  {
   "cell_type": "code",
   "execution_count": 33,
   "metadata": {},
   "outputs": [],
   "source": [
    "days = list(dataset_dict.keys())"
   ]
  },
  {
   "cell_type": "code",
   "execution_count": 34,
   "metadata": {},
   "outputs": [
    {
     "data": {
      "text/plain": [
       "3026"
      ]
     },
     "execution_count": 34,
     "metadata": {},
     "output_type": "execute_result"
    }
   ],
   "source": [
    "len(days)"
   ]
  },
  {
   "cell_type": "code",
   "execution_count": 35,
   "metadata": {},
   "outputs": [],
   "source": [
    "# Date, Open, High, Low, Close, Vol\n",
    "engineered = pd.DataFrame(\n",
    "    {'Date': days,\n",
    "     '9AM': nine_a,\n",
    "     #'High': big,\n",
    "     'Low': small,\n",
    "     '9PM': nine_p,\n",
    "     'Vol': vol\n",
    "     ,'High': big,\n",
    "    })"
   ]
  },
  {
   "cell_type": "code",
   "execution_count": null,
   "metadata": {},
   "outputs": [],
   "source": []
  },
  {
   "cell_type": "code",
   "execution_count": 36,
   "metadata": {},
   "outputs": [
    {
     "data": {
      "text/html": [
       "<div>\n",
       "<style scoped>\n",
       "    .dataframe tbody tr th:only-of-type {\n",
       "        vertical-align: middle;\n",
       "    }\n",
       "\n",
       "    .dataframe tbody tr th {\n",
       "        vertical-align: top;\n",
       "    }\n",
       "\n",
       "    .dataframe thead th {\n",
       "        text-align: right;\n",
       "    }\n",
       "</style>\n",
       "<table border=\"1\" class=\"dataframe\">\n",
       "  <thead>\n",
       "    <tr style=\"text-align: right;\">\n",
       "      <th></th>\n",
       "      <th>Date</th>\n",
       "      <th>9AM</th>\n",
       "      <th>Low</th>\n",
       "      <th>9PM</th>\n",
       "      <th>Vol</th>\n",
       "      <th>High</th>\n",
       "    </tr>\n",
       "  </thead>\n",
       "  <tbody>\n",
       "    <tr>\n",
       "      <th>0</th>\n",
       "      <td>day20100101</td>\n",
       "      <td>42471.0</td>\n",
       "      <td>42471.0</td>\n",
       "      <td>49165.0</td>\n",
       "      <td>1148000.0</td>\n",
       "      <td>56391.0</td>\n",
       "    </tr>\n",
       "    <tr>\n",
       "      <th>1</th>\n",
       "      <td>day20100102</td>\n",
       "      <td>46746.0</td>\n",
       "      <td>46405.0</td>\n",
       "      <td>50361.0</td>\n",
       "      <td>1178586.0</td>\n",
       "      <td>55470.0</td>\n",
       "    </tr>\n",
       "    <tr>\n",
       "      <th>2</th>\n",
       "      <td>day20100103</td>\n",
       "      <td>45633.0</td>\n",
       "      <td>45633.0</td>\n",
       "      <td>51897.0</td>\n",
       "      <td>1189365.0</td>\n",
       "      <td>55581.0</td>\n",
       "    </tr>\n",
       "    <tr>\n",
       "      <th>3</th>\n",
       "      <td>day20100104</td>\n",
       "      <td>61957.0</td>\n",
       "      <td>49573.0</td>\n",
       "      <td>58076.0</td>\n",
       "      <td>1406452.0</td>\n",
       "      <td>66149.0</td>\n",
       "    </tr>\n",
       "    <tr>\n",
       "      <th>4</th>\n",
       "      <td>day20100105</td>\n",
       "      <td>64867.0</td>\n",
       "      <td>54680.0</td>\n",
       "      <td>60542.0</td>\n",
       "      <td>1479917.0</td>\n",
       "      <td>66901.0</td>\n",
       "    </tr>\n",
       "  </tbody>\n",
       "</table>\n",
       "</div>"
      ],
      "text/plain": [
       "          Date      9AM      Low      9PM        Vol     High\n",
       "0  day20100101  42471.0  42471.0  49165.0  1148000.0  56391.0\n",
       "1  day20100102  46746.0  46405.0  50361.0  1178586.0  55470.0\n",
       "2  day20100103  45633.0  45633.0  51897.0  1189365.0  55581.0\n",
       "3  day20100104  61957.0  49573.0  58076.0  1406452.0  66149.0\n",
       "4  day20100105  64867.0  54680.0  60542.0  1479917.0  66901.0"
      ]
     },
     "execution_count": 36,
     "metadata": {},
     "output_type": "execute_result"
    }
   ],
   "source": [
    "engineered.head()"
   ]
  },
  {
   "cell_type": "code",
   "execution_count": null,
   "metadata": {},
   "outputs": [],
   "source": []
  },
  {
   "cell_type": "code",
   "execution_count": 37,
   "metadata": {},
   "outputs": [],
   "source": [
    "engineered.to_csv(\"engineered_dataset.csv\")"
   ]
  },
  {
   "cell_type": "code",
   "execution_count": 38,
   "metadata": {},
   "outputs": [
    {
     "data": {
      "text/plain": [
       "(3026, 6)"
      ]
     },
     "execution_count": 38,
     "metadata": {},
     "output_type": "execute_result"
    }
   ],
   "source": [
    "engineered.shape"
   ]
  },
  {
   "cell_type": "markdown",
   "metadata": {},
   "source": [
    "# 모델 들어갑니다!"
   ]
  },
  {
   "cell_type": "code",
   "execution_count": 39,
   "metadata": {},
   "outputs": [
    {
     "name": "stderr",
     "output_type": "stream",
     "text": [
      "/anaconda3/lib/python3.6/site-packages/h5py/__init__.py:36: FutureWarning: Conversion of the second argument of issubdtype from `float` to `np.floating` is deprecated. In future, it will be treated as `np.float64 == np.dtype(float).type`.\n",
      "  from ._conv import register_converters as _register_converters\n",
      "Using TensorFlow backend.\n"
     ]
    }
   ],
   "source": [
    "import numpy as np\n",
    "import matplotlib.pyplot as plt\n",
    "import pandas as pd\n",
    "from pandas import datetime\n",
    "import math, time\n",
    "import itertools\n",
    "from sklearn import preprocessing\n",
    "import datetime\n",
    "from operator import itemgetter\n",
    "from sklearn.metrics import mean_squared_error\n",
    "from math import sqrt\n",
    "from keras.models import Sequential\n",
    "from keras.layers.core import Dense, Dropout, Activation\n",
    "from keras.layers.recurrent import LSTM\n",
    "from keras.models import load_model\n",
    "import keras\n",
    "import h5py\n",
    "import requests\n",
    "import os"
   ]
  },
  {
   "cell_type": "code",
   "execution_count": 40,
   "metadata": {},
   "outputs": [
    {
     "data": {
      "text/plain": [
       "Index(['Date', '9AM', 'Low', '9PM', 'Vol', 'High'], dtype='object')"
      ]
     },
     "execution_count": 40,
     "metadata": {},
     "output_type": "execute_result"
    }
   ],
   "source": [
    "engineered.columns"
   ]
  },
  {
   "cell_type": "code",
   "execution_count": 41,
   "metadata": {},
   "outputs": [],
   "source": [
    "def normalize_data(df):\n",
    "    min_max_scaler = preprocessing.MinMaxScaler()\n",
    "    df['9AM'] = min_max_scaler.fit_transform(df['9AM'].values.reshape(-1,1))\n",
    "    #df['High'] = min_max_scaler.fit_transform(df['High'].values.reshape(-1,1))\n",
    "    #df['Low'] = min_max_scaler.fit_transform(df['Low'].values.reshape(-1,1))\n",
    "    df['9PM'] = min_max_scaler.fit_transform(df['9PM'].values.reshape(-1,1))\n",
    "    df['Vol'] = min_max_scaler.fit_transform(df['Vol'].values.reshape(-1,1))\n",
    "    df['Low'] = min_max_scaler.fit_transform(df['Low'].values.reshape(-1,1))\n",
    "    df['High'] = min_max_scaler.fit_transform(df['High'].values.reshape(-1,1))\n",
    "    return df\n"
   ]
  },
  {
   "cell_type": "code",
   "execution_count": 42,
   "metadata": {
    "scrolled": true
   },
   "outputs": [],
   "source": [
    "df = engineered.copy()\n",
    "df.set_index('Date', inplace = True)"
   ]
  },
  {
   "cell_type": "code",
   "execution_count": 43,
   "metadata": {},
   "outputs": [
    {
     "data": {
      "text/html": [
       "<div>\n",
       "<style scoped>\n",
       "    .dataframe tbody tr th:only-of-type {\n",
       "        vertical-align: middle;\n",
       "    }\n",
       "\n",
       "    .dataframe tbody tr th {\n",
       "        vertical-align: top;\n",
       "    }\n",
       "\n",
       "    .dataframe thead th {\n",
       "        text-align: right;\n",
       "    }\n",
       "</style>\n",
       "<table border=\"1\" class=\"dataframe\">\n",
       "  <thead>\n",
       "    <tr style=\"text-align: right;\">\n",
       "      <th></th>\n",
       "      <th>9AM</th>\n",
       "      <th>Low</th>\n",
       "      <th>9PM</th>\n",
       "      <th>Vol</th>\n",
       "      <th>High</th>\n",
       "    </tr>\n",
       "    <tr>\n",
       "      <th>Date</th>\n",
       "      <th></th>\n",
       "      <th></th>\n",
       "      <th></th>\n",
       "      <th></th>\n",
       "      <th></th>\n",
       "    </tr>\n",
       "  </thead>\n",
       "  <tbody>\n",
       "    <tr>\n",
       "      <th>day20100101</th>\n",
       "      <td>0.157306</td>\n",
       "      <td>0.273012</td>\n",
       "      <td>0.279929</td>\n",
       "      <td>0.283061</td>\n",
       "      <td>0.350765</td>\n",
       "    </tr>\n",
       "    <tr>\n",
       "      <th>day20100102</th>\n",
       "      <td>0.234933</td>\n",
       "      <td>0.377306</td>\n",
       "      <td>0.310681</td>\n",
       "      <td>0.311576</td>\n",
       "      <td>0.332438</td>\n",
       "    </tr>\n",
       "    <tr>\n",
       "      <th>day20100103</th>\n",
       "      <td>0.214723</td>\n",
       "      <td>0.356840</td>\n",
       "      <td>0.350175</td>\n",
       "      <td>0.321626</td>\n",
       "      <td>0.334647</td>\n",
       "    </tr>\n",
       "    <tr>\n",
       "      <th>day20100104</th>\n",
       "      <td>0.511140</td>\n",
       "      <td>0.461294</td>\n",
       "      <td>0.509051</td>\n",
       "      <td>0.524017</td>\n",
       "      <td>0.544943</td>\n",
       "    </tr>\n",
       "    <tr>\n",
       "      <th>day20100105</th>\n",
       "      <td>0.563981</td>\n",
       "      <td>0.596686</td>\n",
       "      <td>0.572457</td>\n",
       "      <td>0.592508</td>\n",
       "      <td>0.559907</td>\n",
       "    </tr>\n",
       "  </tbody>\n",
       "</table>\n",
       "</div>"
      ],
      "text/plain": [
       "                  9AM       Low       9PM       Vol      High\n",
       "Date                                                         \n",
       "day20100101  0.157306  0.273012  0.279929  0.283061  0.350765\n",
       "day20100102  0.234933  0.377306  0.310681  0.311576  0.332438\n",
       "day20100103  0.214723  0.356840  0.350175  0.321626  0.334647\n",
       "day20100104  0.511140  0.461294  0.509051  0.524017  0.544943\n",
       "day20100105  0.563981  0.596686  0.572457  0.592508  0.559907"
      ]
     },
     "execution_count": 43,
     "metadata": {},
     "output_type": "execute_result"
    }
   ],
   "source": [
    "df = normalize_data(df)\n",
    "df.head()"
   ]
  },
  {
   "cell_type": "code",
   "execution_count": 44,
   "metadata": {},
   "outputs": [
    {
     "data": {
      "text/plain": [
       "(3026, 5)"
      ]
     },
     "execution_count": 44,
     "metadata": {},
     "output_type": "execute_result"
    }
   ],
   "source": [
    "df.shape"
   ]
  },
  {
   "cell_type": "code",
   "execution_count": 45,
   "metadata": {},
   "outputs": [],
   "source": [
    "def load_data(stock, seq_len):\n",
    "    amount_of_features = len(stock.columns) # 5\n",
    "    data = stock.as_matrix() \n",
    "    sequence_length = seq_len + 1 # index starting from 0\n",
    "    result = []\n",
    "    \n",
    "    for index in range(len(data) - sequence_length): # maxmimum date = lastest date - sequence length\n",
    "        result.append(data[index: index + sequence_length]) # index : index + 22days\n",
    "    \n",
    "    result = np.array(result)\n",
    "    row = round(0.9 * result.shape[0]) # 90% split\n",
    "    train = result[:int(row), :] # 90% date, all features \n",
    "    \n",
    "    x_train = train[:, :-1] \n",
    "    y_train = train[:, -1][:,-1]\n",
    "    \n",
    "    x_test = result[int(row):, :-1] \n",
    "    y_test = result[int(row):, -1][:,-1]\n",
    "\n",
    "    x_train = np.reshape(x_train, (x_train.shape[0], x_train.shape[1], amount_of_features))\n",
    "    x_test = np.reshape(x_test, (x_test.shape[0], x_test.shape[1], amount_of_features))  \n",
    "\n",
    "    return [x_train, y_train, x_test, y_test]"
   ]
  },
  {
   "cell_type": "code",
   "execution_count": 46,
   "metadata": {},
   "outputs": [],
   "source": [
    "def build_model(layers):\n",
    "    d = 0.3\n",
    "    model = Sequential()\n",
    "    \n",
    "    model.add(LSTM(256, input_shape=(layers[1], layers[0]), return_sequences=True))\n",
    "    model.add(Dropout(d))\n",
    "        \n",
    "    model.add(LSTM(256, input_shape=(layers[1], layers[0]), return_sequences=False))\n",
    "    model.add(Dropout(d))\n",
    "        \n",
    "    model.add(Dense(32,kernel_initializer=\"uniform\",activation='relu'))        \n",
    "    model.add(Dense(1,kernel_initializer=\"uniform\",activation='linear'))\n",
    "    \n",
    "    # adam = keras.optimizers.Adam(decay=0.2)\n",
    "        \n",
    "    start = time.time()\n",
    "    model.compile(loss='mse',optimizer='adam', metrics=['accuracy'])\n",
    "    print(\"Compilation Time : \", time.time() - start)\n",
    "    return model\n",
    "\n"
   ]
  },
  {
   "cell_type": "code",
   "execution_count": 47,
   "metadata": {},
   "outputs": [
    {
     "name": "stdout",
     "output_type": "stream",
     "text": [
      "[[0.15730602 0.27301166 0.27992903 0.28306109 0.35076513]\n",
      " [0.23493309 0.37730647 0.31068086 0.3115765  0.33243786]\n",
      " [0.21472281 0.35683987 0.35017484 0.32162579 0.33464669]\n",
      " [0.51114016 0.46129374 0.5090507  0.52401658 0.54494259]\n",
      " [0.56398104 0.59668611 0.57245706 0.5925082  0.55990687]\n",
      " [0.59074649 0.64347826 0.5904042  0.6191357  0.58266173]\n",
      " [0.60360262 0.66304348 0.60549727 0.63162716 0.59058166]\n",
      " [0.60425632 0.67550371 0.58770441 0.62606364 0.59282033]\n",
      " [0.46474551 0.62433722 0.44854983 0.51149576 0.44799315]\n",
      " [0.26770896 0.43419936 0.39113442 0.38185347 0.38079319]\n",
      " [0.59138203 0.5092789  0.58207343 0.58369142 0.58917876]\n",
      " [0.61144704 0.6371421  0.60629435 0.62716889 0.59951645]\n",
      " [0.62243286 0.67293213 0.62444719 0.64910566 0.60999853]\n",
      " [0.62101651 0.69554613 0.61349378 0.64982831 0.60841775]\n",
      " [0.60928619 0.67486744 0.57826802 0.62300755 0.59250194]\n",
      " [0.47013855 0.63067338 0.46035174 0.5103425  0.44399339]\n",
      " [0.26778159 0.4195122  0.38678906 0.38066106 0.38556902]\n",
      " [0.58195784 0.50882821 0.55713257 0.562117   0.56878196]\n",
      " [0.57594741 0.60601803 0.51879564 0.56518649 0.54386803]\n",
      " [0.51983803 0.53753977 0.48326134 0.52524079 0.49437845]\n",
      " [0.53763324 0.52099682 0.55399568 0.54532063 0.51776013]\n",
      " [0.57629242 0.59623542 0.55733827 0.58265749 0.54908165]] 0.4166915408035342\n"
     ]
    },
    {
     "name": "stderr",
     "output_type": "stream",
     "text": [
      "/anaconda3/lib/python3.6/site-packages/ipykernel_launcher.py:3: FutureWarning: Method .as_matrix will be removed in a future version. Use .values instead.\n",
      "  This is separate from the ipykernel package so we can avoid doing imports until\n"
     ]
    }
   ],
   "source": [
    "window = 22\n",
    "X_train, y_train, X_test, y_test = load_data(df, window)\n",
    "print (X_train[0], y_train[0])"
   ]
  },
  {
   "cell_type": "code",
   "execution_count": 48,
   "metadata": {},
   "outputs": [
    {
     "name": "stdout",
     "output_type": "stream",
     "text": [
      "Compilation Time :  0.026868820190429688\n"
     ]
    }
   ],
   "source": [
    "model = build_model([5,window,1])"
   ]
  },
  {
   "cell_type": "code",
   "execution_count": 49,
   "metadata": {},
   "outputs": [
    {
     "name": "stdout",
     "output_type": "stream",
     "text": [
      "Train on 2432 samples, validate on 271 samples\n",
      "Epoch 1/45\n",
      "2432/2432 [==============================] - 7s 3ms/step - loss: 0.2315 - acc: 4.1118e-04 - val_loss: 0.1002 - val_acc: 0.0000e+00\n",
      "Epoch 2/45\n",
      "2432/2432 [==============================] - 5s 2ms/step - loss: 0.0476 - acc: 0.0000e+00 - val_loss: 0.0218 - val_acc: 0.0000e+00\n",
      "Epoch 3/45\n",
      "2432/2432 [==============================] - 5s 2ms/step - loss: 0.0265 - acc: 4.1118e-04 - val_loss: 0.0531 - val_acc: 0.0000e+00\n",
      "Epoch 4/45\n",
      "2432/2432 [==============================] - 5s 2ms/step - loss: 0.0280 - acc: 4.1118e-04 - val_loss: 0.0266 - val_acc: 0.0000e+00\n",
      "Epoch 5/45\n",
      "2432/2432 [==============================] - 6s 2ms/step - loss: 0.0237 - acc: 4.1118e-04 - val_loss: 0.0222 - val_acc: 0.0000e+00\n",
      "Epoch 6/45\n",
      "2432/2432 [==============================] - 5s 2ms/step - loss: 0.0227 - acc: 0.0000e+00 - val_loss: 0.0309 - val_acc: 0.0000e+00\n",
      "Epoch 7/45\n",
      "2432/2432 [==============================] - 6s 2ms/step - loss: 0.0229 - acc: 4.1118e-04 - val_loss: 0.0318 - val_acc: 0.0000e+00\n",
      "Epoch 8/45\n",
      "2432/2432 [==============================] - 5s 2ms/step - loss: 0.0221 - acc: 4.1118e-04 - val_loss: 0.0247 - val_acc: 0.0000e+00\n",
      "Epoch 9/45\n",
      "2432/2432 [==============================] - 5s 2ms/step - loss: 0.0220 - acc: 0.0000e+00 - val_loss: 0.0252 - val_acc: 0.0000e+00\n",
      "Epoch 10/45\n",
      "2432/2432 [==============================] - 5s 2ms/step - loss: 0.0217 - acc: 0.0000e+00 - val_loss: 0.0295 - val_acc: 0.0000e+00\n",
      "Epoch 11/45\n",
      "2432/2432 [==============================] - 5s 2ms/step - loss: 0.0217 - acc: 4.1118e-04 - val_loss: 0.0265 - val_acc: 0.0000e+00\n",
      "Epoch 12/45\n",
      "2432/2432 [==============================] - 5s 2ms/step - loss: 0.0215 - acc: 4.1118e-04 - val_loss: 0.0252 - val_acc: 0.0000e+00\n",
      "Epoch 13/45\n",
      "2432/2432 [==============================] - 5s 2ms/step - loss: 0.0210 - acc: 0.0000e+00 - val_loss: 0.0264 - val_acc: 0.0000e+00\n",
      "Epoch 14/45\n",
      "2432/2432 [==============================] - 5s 2ms/step - loss: 0.0206 - acc: 4.1118e-04 - val_loss: 0.0246 - val_acc: 0.0000e+00\n",
      "Epoch 15/45\n",
      "2432/2432 [==============================] - 5s 2ms/step - loss: 0.0194 - acc: 4.1118e-04 - val_loss: 0.0218 - val_acc: 0.0000e+00\n",
      "Epoch 16/45\n",
      "2432/2432 [==============================] - 5s 2ms/step - loss: 0.0184 - acc: 4.1118e-04 - val_loss: 0.0200 - val_acc: 0.0000e+00\n",
      "Epoch 17/45\n",
      "2432/2432 [==============================] - 5s 2ms/step - loss: 0.0171 - acc: 4.1118e-04 - val_loss: 0.0198 - val_acc: 0.0000e+00\n",
      "Epoch 18/45\n",
      "2432/2432 [==============================] - 5s 2ms/step - loss: 0.0179 - acc: 4.1118e-04 - val_loss: 0.0202 - val_acc: 0.0000e+00\n",
      "Epoch 19/45\n",
      "2432/2432 [==============================] - 5s 2ms/step - loss: 0.0176 - acc: 0.0000e+00 - val_loss: 0.0186 - val_acc: 0.0000e+00\n",
      "Epoch 20/45\n",
      "2432/2432 [==============================] - 5s 2ms/step - loss: 0.0161 - acc: 4.1118e-04 - val_loss: 0.0177 - val_acc: 0.0000e+00\n",
      "Epoch 21/45\n",
      "2432/2432 [==============================] - 5s 2ms/step - loss: 0.0157 - acc: 4.1118e-04 - val_loss: 0.0170 - val_acc: 0.0000e+00\n",
      "Epoch 22/45\n",
      "2432/2432 [==============================] - 5s 2ms/step - loss: 0.0158 - acc: 4.1118e-04 - val_loss: 0.0168 - val_acc: 0.0000e+00\n",
      "Epoch 23/45\n",
      "2432/2432 [==============================] - 5s 2ms/step - loss: 0.0157 - acc: 4.1118e-04 - val_loss: 0.0191 - val_acc: 0.0000e+00\n",
      "Epoch 24/45\n",
      "2432/2432 [==============================] - 5s 2ms/step - loss: 0.0157 - acc: 4.1118e-04 - val_loss: 0.0173 - val_acc: 0.0000e+00\n",
      "Epoch 25/45\n",
      "2432/2432 [==============================] - 5s 2ms/step - loss: 0.0152 - acc: 4.1118e-04 - val_loss: 0.0177 - val_acc: 0.0000e+00\n",
      "Epoch 26/45\n",
      "2432/2432 [==============================] - 5s 2ms/step - loss: 0.0152 - acc: 4.1118e-04 - val_loss: 0.0168 - val_acc: 0.0000e+00\n",
      "Epoch 27/45\n",
      "2432/2432 [==============================] - 5s 2ms/step - loss: 0.0151 - acc: 4.1118e-04 - val_loss: 0.0160 - val_acc: 0.0000e+00\n",
      "Epoch 28/45\n",
      "2432/2432 [==============================] - 5s 2ms/step - loss: 0.0147 - acc: 4.1118e-04 - val_loss: 0.0162 - val_acc: 0.0000e+00\n",
      "Epoch 29/45\n",
      "2432/2432 [==============================] - 5s 2ms/step - loss: 0.0152 - acc: 4.1118e-04 - val_loss: 0.0163 - val_acc: 0.0000e+00\n",
      "Epoch 30/45\n",
      "2432/2432 [==============================] - 5s 2ms/step - loss: 0.0148 - acc: 4.1118e-04 - val_loss: 0.0157 - val_acc: 0.0000e+00\n",
      "Epoch 31/45\n",
      "2432/2432 [==============================] - 6s 2ms/step - loss: 0.0147 - acc: 4.1118e-04 - val_loss: 0.0158 - val_acc: 0.0000e+00\n",
      "Epoch 32/45\n",
      "2432/2432 [==============================] - 5s 2ms/step - loss: 0.0152 - acc: 4.1118e-04 - val_loss: 0.0167 - val_acc: 0.0000e+00\n",
      "Epoch 33/45\n",
      "2432/2432 [==============================] - 5s 2ms/step - loss: 0.0146 - acc: 4.1118e-04 - val_loss: 0.0159 - val_acc: 0.0000e+00\n",
      "Epoch 34/45\n",
      "2432/2432 [==============================] - 5s 2ms/step - loss: 0.0146 - acc: 4.1118e-04 - val_loss: 0.0154 - val_acc: 0.0000e+00\n",
      "Epoch 35/45\n",
      "2432/2432 [==============================] - 5s 2ms/step - loss: 0.0143 - acc: 4.1118e-04 - val_loss: 0.0156 - val_acc: 0.0000e+00\n",
      "Epoch 36/45\n",
      "2432/2432 [==============================] - 5s 2ms/step - loss: 0.0141 - acc: 4.1118e-04 - val_loss: 0.0156 - val_acc: 0.0000e+00\n",
      "Epoch 37/45\n",
      "2432/2432 [==============================] - 5s 2ms/step - loss: 0.0144 - acc: 4.1118e-04 - val_loss: 0.0156 - val_acc: 0.0000e+00\n",
      "Epoch 38/45\n",
      "2432/2432 [==============================] - 5s 2ms/step - loss: 0.0144 - acc: 4.1118e-04 - val_loss: 0.0156 - val_acc: 0.0000e+00\n",
      "Epoch 39/45\n",
      "2432/2432 [==============================] - 5s 2ms/step - loss: 0.0149 - acc: 4.1118e-04 - val_loss: 0.0159 - val_acc: 0.0000e+00\n",
      "Epoch 40/45\n",
      "2432/2432 [==============================] - 5s 2ms/step - loss: 0.0144 - acc: 4.1118e-04 - val_loss: 0.0155 - val_acc: 0.0000e+00\n",
      "Epoch 41/45\n",
      "2432/2432 [==============================] - 5s 2ms/step - loss: 0.0146 - acc: 4.1118e-04 - val_loss: 0.0156 - val_acc: 0.0000e+00\n",
      "Epoch 42/45\n",
      "2432/2432 [==============================] - 5s 2ms/step - loss: 0.0142 - acc: 4.1118e-04 - val_loss: 0.0156 - val_acc: 0.0000e+00\n",
      "Epoch 43/45\n",
      "2432/2432 [==============================] - 5s 2ms/step - loss: 0.0140 - acc: 4.1118e-04 - val_loss: 0.0153 - val_acc: 0.0000e+00\n",
      "Epoch 44/45\n",
      "2432/2432 [==============================] - 5s 2ms/step - loss: 0.0139 - acc: 4.1118e-04 - val_loss: 0.0153 - val_acc: 0.0000e+00\n",
      "Epoch 45/45\n",
      "2432/2432 [==============================] - 5s 2ms/step - loss: 0.0139 - acc: 4.1118e-04 - val_loss: 0.0151 - val_acc: 0.0000e+00\n",
      "--- 227.31646084785461 seconds ---\n"
     ]
    }
   ],
   "source": [
    "#import time\n",
    "start_time = time.time()\n",
    "\n",
    "#work\n",
    "\n",
    "model.fit(X_train,y_train,batch_size=512,epochs=45,validation_split=0.1,verbose=1)\n",
    "print(\"--- %s seconds ---\" % (time.time() - start_time))"
   ]
  },
  {
   "cell_type": "code",
   "execution_count": 50,
   "metadata": {},
   "outputs": [
    {
     "name": "stdout",
     "output_type": "stream",
     "text": [
      "(300, 1)\n"
     ]
    }
   ],
   "source": [
    "# print(X_test[-1])\n",
    "diff=[]\n",
    "ratio=[]\n",
    "p = model.predict(X_test)\n",
    "print (p.shape)\n",
    "# for each data index in test data\n",
    "for u in range(len(y_test)):\n",
    "    # pr = prediction day u\n",
    "    pr = p[u][0]\n",
    "    # (y_test day u / pr) - 1\n",
    "    ratio.append((y_test[u]/pr)-1)\n",
    "    diff.append(abs(y_test[u]- pr))\n",
    "    # print(u, y_test[u], pr, (y_test[u]/pr)-1, abs(y_test[u]- pr))\n",
    "    # Last day prediction\n",
    "    # print(p[-1]) "
   ]
  },
  {
   "cell_type": "code",
   "execution_count": 51,
   "metadata": {},
   "outputs": [
    {
     "data": {
      "text/html": [
       "<div>\n",
       "<style scoped>\n",
       "    .dataframe tbody tr th:only-of-type {\n",
       "        vertical-align: middle;\n",
       "    }\n",
       "\n",
       "    .dataframe tbody tr th {\n",
       "        vertical-align: top;\n",
       "    }\n",
       "\n",
       "    .dataframe thead th {\n",
       "        text-align: right;\n",
       "    }\n",
       "</style>\n",
       "<table border=\"1\" class=\"dataframe\">\n",
       "  <thead>\n",
       "    <tr style=\"text-align: right;\">\n",
       "      <th></th>\n",
       "      <th>9AM</th>\n",
       "      <th>Low</th>\n",
       "      <th>9PM</th>\n",
       "      <th>Vol</th>\n",
       "      <th>High</th>\n",
       "    </tr>\n",
       "    <tr>\n",
       "      <th>Date</th>\n",
       "      <th></th>\n",
       "      <th></th>\n",
       "      <th></th>\n",
       "      <th></th>\n",
       "      <th></th>\n",
       "    </tr>\n",
       "  </thead>\n",
       "  <tbody>\n",
       "    <tr>\n",
       "      <th>day20100101</th>\n",
       "      <td>0.157306</td>\n",
       "      <td>0.273012</td>\n",
       "      <td>0.279929</td>\n",
       "      <td>0.283061</td>\n",
       "      <td>0.350765</td>\n",
       "    </tr>\n",
       "    <tr>\n",
       "      <th>day20100102</th>\n",
       "      <td>0.234933</td>\n",
       "      <td>0.377306</td>\n",
       "      <td>0.310681</td>\n",
       "      <td>0.311576</td>\n",
       "      <td>0.332438</td>\n",
       "    </tr>\n",
       "    <tr>\n",
       "      <th>day20100103</th>\n",
       "      <td>0.214723</td>\n",
       "      <td>0.356840</td>\n",
       "      <td>0.350175</td>\n",
       "      <td>0.321626</td>\n",
       "      <td>0.334647</td>\n",
       "    </tr>\n",
       "  </tbody>\n",
       "</table>\n",
       "</div>"
      ],
      "text/plain": [
       "                  9AM       Low       9PM       Vol      High\n",
       "Date                                                         \n",
       "day20100101  0.157306  0.273012  0.279929  0.283061  0.350765\n",
       "day20100102  0.234933  0.377306  0.310681  0.311576  0.332438\n",
       "day20100103  0.214723  0.356840  0.350175  0.321626  0.334647"
      ]
     },
     "execution_count": 51,
     "metadata": {},
     "output_type": "execute_result"
    }
   ],
   "source": [
    "df.head(3)"
   ]
  },
  {
   "cell_type": "code",
   "execution_count": 52,
   "metadata": {},
   "outputs": [],
   "source": [
    "df['avg'] = avg"
   ]
  },
  {
   "cell_type": "code",
   "execution_count": 53,
   "metadata": {},
   "outputs": [],
   "source": [
    "#df = pd.read_csv(\"../input/prices-split-adjusted.csv\", index_col = 0)\n",
    "#df[\"adj close\"] = df.close # Moving close to the last column\n",
    "#df.drop(['close'], 1, inplace=True) # Moving close to the last column\n",
    "\n",
    "#df.drop(['symbol'],1,inplace=True)\n",
    "\n",
    "# Bug fixed at here, please update the denormalize function to this one\n",
    "def denormalize(df, normalized_value): \n",
    "    df = df['High'].values.reshape(-1,1)\n",
    "    #df = avg.values.reshape(-1,1)\n",
    "    normalized_value = normalized_value.reshape(-1,1)\n",
    "    \n",
    "    #return df.shape, p.shape\n",
    "    min_max_scaler = preprocessing.MinMaxScaler()\n",
    "    a = min_max_scaler.fit_transform(df)\n",
    "    new = min_max_scaler.inverse_transform(normalized_value)\n",
    "    return new\n",
    "\n",
    "newp = denormalize(df, p)\n",
    "newy_test = denormalize(df, y_test)"
   ]
  },
  {
   "cell_type": "code",
   "execution_count": 58,
   "metadata": {},
   "outputs": [
    {
     "data": {
      "text/plain": [
       "300"
      ]
     },
     "execution_count": 58,
     "metadata": {},
     "output_type": "execute_result"
    }
   ],
   "source": [
    "len(newp)"
   ]
  },
  {
   "cell_type": "code",
   "execution_count": 56,
   "metadata": {},
   "outputs": [
    {
     "data": {
      "text/plain": [
       "array([[0.51219714],\n",
       "       [0.5117347 ],\n",
       "       [0.5173256 ],\n",
       "       [0.5190494 ],\n",
       "       [0.5236463 ],\n",
       "       [0.5302064 ],\n",
       "       [0.53897125],\n",
       "       [0.5435497 ],\n",
       "       [0.5456893 ],\n",
       "       [0.5536174 ],\n",
       "       [0.5582606 ],\n",
       "       [0.56639063],\n",
       "       [0.5732759 ],\n",
       "       [0.58146715],\n",
       "       [0.584801  ],\n",
       "       [0.58724326],\n",
       "       [0.59613335],\n",
       "       [0.6015777 ],\n",
       "       [0.608021  ],\n",
       "       [0.61559284],\n",
       "       [0.62241894],\n",
       "       [0.62437814],\n",
       "       [0.6249923 ],\n",
       "       [0.63193774],\n",
       "       [0.63546556],\n",
       "       [0.64014435],\n",
       "       [0.64550304],\n",
       "       [0.65138704],\n",
       "       [0.65088373],\n",
       "       [0.6495809 ],\n",
       "       [0.6552246 ],\n",
       "       [0.65812236],\n",
       "       [0.66213125],\n",
       "       [0.66722834],\n",
       "       [0.6727678 ],\n",
       "       [0.67310077],\n",
       "       [0.67095727],\n",
       "       [0.6757104 ],\n",
       "       [0.6780489 ],\n",
       "       [0.67874247],\n",
       "       [0.67889524],\n",
       "       [0.6789687 ],\n",
       "       [0.6737841 ],\n",
       "       [0.6683898 ],\n",
       "       [0.66631144],\n",
       "       [0.6633147 ],\n",
       "       [0.66122115],\n",
       "       [0.6595244 ],\n",
       "       [0.6593774 ],\n",
       "       [0.6577611 ],\n",
       "       [0.6566428 ],\n",
       "       [0.6619794 ],\n",
       "       [0.6647854 ],\n",
       "       [0.6663974 ],\n",
       "       [0.6674674 ],\n",
       "       [0.6679407 ],\n",
       "       [0.66326773],\n",
       "       [0.6566862 ],\n",
       "       [0.6562993 ],\n",
       "       [0.6509741 ],\n",
       "       [0.6498998 ],\n",
       "       [0.6501507 ],\n",
       "       [0.6511865 ],\n",
       "       [0.64835364],\n",
       "       [0.6445337 ],\n",
       "       [0.6484393 ],\n",
       "       [0.6521408 ],\n",
       "       [0.65690714],\n",
       "       [0.66117495],\n",
       "       [0.66254425],\n",
       "       [0.6567438 ],\n",
       "       [0.6493198 ],\n",
       "       [0.64926463],\n",
       "       [0.64528227],\n",
       "       [0.64084506],\n",
       "       [0.63775235],\n",
       "       [0.6353285 ],\n",
       "       [0.6293479 ],\n",
       "       [0.62317765],\n",
       "       [0.6246174 ],\n",
       "       [0.623943  ],\n",
       "       [0.62440974],\n",
       "       [0.6230116 ],\n",
       "       [0.6221261 ],\n",
       "       [0.6170305 ],\n",
       "       [0.61085075],\n",
       "       [0.6111224 ],\n",
       "       [0.6059607 ],\n",
       "       [0.599495  ],\n",
       "       [0.5928597 ],\n",
       "       [0.5878833 ],\n",
       "       [0.5818605 ],\n",
       "       [0.57764167],\n",
       "       [0.5800654 ],\n",
       "       [0.5777507 ],\n",
       "       [0.577488  ],\n",
       "       [0.5783102 ],\n",
       "       [0.5796878 ],\n",
       "       [0.57758826],\n",
       "       [0.57479376],\n",
       "       [0.57840145],\n",
       "       [0.57636744],\n",
       "       [0.5760624 ],\n",
       "       [0.5753153 ],\n",
       "       [0.5733994 ],\n",
       "       [0.5679476 ],\n",
       "       [0.56308806],\n",
       "       [0.55679125],\n",
       "       [0.5382633 ],\n",
       "       [0.51668507],\n",
       "       [0.4961211 ],\n",
       "       [0.47750163],\n",
       "       [0.46138567],\n",
       "       [0.4496273 ],\n",
       "       [0.44254717],\n",
       "       [0.43579578],\n",
       "       [0.4338452 ],\n",
       "       [0.4359917 ],\n",
       "       [0.4393039 ],\n",
       "       [0.43921283],\n",
       "       [0.43762615],\n",
       "       [0.44048327],\n",
       "       [0.43450654],\n",
       "       [0.4307734 ],\n",
       "       [0.43293917],\n",
       "       [0.4428388 ],\n",
       "       [0.45491663],\n",
       "       [0.46587396],\n",
       "       [0.48039645],\n",
       "       [0.49507958],\n",
       "       [0.50754386],\n",
       "       [0.5178995 ],\n",
       "       [0.5266046 ],\n",
       "       [0.52887076],\n",
       "       [0.5261842 ],\n",
       "       [0.52883047],\n",
       "       [0.5293099 ],\n",
       "       [0.52792394],\n",
       "       [0.52878076],\n",
       "       [0.5309144 ],\n",
       "       [0.52988154],\n",
       "       [0.52740043],\n",
       "       [0.53065455],\n",
       "       [0.5291157 ],\n",
       "       [0.5296044 ],\n",
       "       [0.5316569 ],\n",
       "       [0.5350471 ],\n",
       "       [0.5348498 ],\n",
       "       [0.53354746],\n",
       "       [0.5393133 ],\n",
       "       [0.54020447],\n",
       "       [0.5445009 ],\n",
       "       [0.5515166 ],\n",
       "       [0.56003314],\n",
       "       [0.56450135],\n",
       "       [0.5677591 ],\n",
       "       [0.5786718 ],\n",
       "       [0.5851877 ],\n",
       "       [0.5934719 ],\n",
       "       [0.6028665 ],\n",
       "       [0.6125354 ],\n",
       "       [0.61576164],\n",
       "       [0.6168192 ],\n",
       "       [0.62482727],\n",
       "       [0.6287188 ],\n",
       "       [0.63280034],\n",
       "       [0.63855195],\n",
       "       [0.64424115],\n",
       "       [0.6440786 ],\n",
       "       [0.641812  ],\n",
       "       [0.64787126],\n",
       "       [0.65224963],\n",
       "       [0.6562746 ],\n",
       "       [0.6598635 ],\n",
       "       [0.6641088 ],\n",
       "       [0.66222376],\n",
       "       [0.6589698 ],\n",
       "       [0.6656457 ],\n",
       "       [0.6701031 ],\n",
       "       [0.6745257 ],\n",
       "       [0.6789221 ],\n",
       "       [0.68208593],\n",
       "       [0.679791  ],\n",
       "       [0.67700213],\n",
       "       [0.6825363 ],\n",
       "       [0.6854002 ],\n",
       "       [0.68825316],\n",
       "       [0.6905971 ],\n",
       "       [0.6914678 ],\n",
       "       [0.6863629 ],\n",
       "       [0.6806579 ],\n",
       "       [0.67749614],\n",
       "       [0.6798193 ],\n",
       "       [0.6823344 ],\n",
       "       [0.6842819 ],\n",
       "       [0.6836899 ],\n",
       "       [0.6774879 ],\n",
       "       [0.67097634],\n",
       "       [0.6647008 ],\n",
       "       [0.6658209 ],\n",
       "       [0.6677199 ],\n",
       "       [0.6704147 ],\n",
       "       [0.6723506 ],\n",
       "       [0.6687166 ],\n",
       "       [0.6645274 ],\n",
       "       [0.6688811 ],\n",
       "       [0.67127246],\n",
       "       [0.6742167 ],\n",
       "       [0.6784635 ],\n",
       "       [0.6827516 ],\n",
       "       [0.6806367 ],\n",
       "       [0.6768883 ],\n",
       "       [0.68040365],\n",
       "       [0.6831239 ],\n",
       "       [0.6831563 ],\n",
       "       [0.6832344 ],\n",
       "       [0.6838165 ],\n",
       "       [0.68008703],\n",
       "       [0.67559105],\n",
       "       [0.6792994 ],\n",
       "       [0.6847438 ],\n",
       "       [0.68919915],\n",
       "       [0.6936386 ],\n",
       "       [0.69766974],\n",
       "       [0.69529206],\n",
       "       [0.6910401 ],\n",
       "       [0.69636995],\n",
       "       [0.698948  ],\n",
       "       [0.70018476],\n",
       "       [0.7010171 ],\n",
       "       [0.7018488 ],\n",
       "       [0.698064  ],\n",
       "       [0.6942755 ],\n",
       "       [0.69954234],\n",
       "       [0.70302933],\n",
       "       [0.70591944],\n",
       "       [0.70792955],\n",
       "       [0.7084111 ],\n",
       "       [0.70391756],\n",
       "       [0.69943815],\n",
       "       [0.70360035],\n",
       "       [0.70403165],\n",
       "       [0.7006008 ],\n",
       "       [0.68926793],\n",
       "       [0.6768413 ],\n",
       "       [0.66719544],\n",
       "       [0.66034555],\n",
       "       [0.6618207 ],\n",
       "       [0.6626071 ],\n",
       "       [0.66393614],\n",
       "       [0.66542435],\n",
       "       [0.66636086],\n",
       "       [0.66180074],\n",
       "       [0.6564397 ],\n",
       "       [0.65851647],\n",
       "       [0.6579229 ],\n",
       "       [0.65679693],\n",
       "       [0.6512467 ],\n",
       "       [0.6498044 ],\n",
       "       [0.64267033],\n",
       "       [0.6355312 ],\n",
       "       [0.6380697 ],\n",
       "       [0.63611084],\n",
       "       [0.63802165],\n",
       "       [0.64373887],\n",
       "       [0.649156  ],\n",
       "       [0.64826304],\n",
       "       [0.64358157],\n",
       "       [0.6456425 ],\n",
       "       [0.643238  ],\n",
       "       [0.63921565],\n",
       "       [0.6364495 ],\n",
       "       [0.63507926],\n",
       "       [0.6291136 ],\n",
       "       [0.6236144 ],\n",
       "       [0.625468  ],\n",
       "       [0.62434393],\n",
       "       [0.62600917],\n",
       "       [0.6260603 ],\n",
       "       [0.6281027 ],\n",
       "       [0.62319773],\n",
       "       [0.6177034 ],\n",
       "       [0.6190212 ],\n",
       "       [0.6139017 ],\n",
       "       [0.60958976],\n",
       "       [0.60555536],\n",
       "       [0.6008065 ],\n",
       "       [0.5932645 ],\n",
       "       [0.5872129 ],\n",
       "       [0.58657616],\n",
       "       [0.5805046 ],\n",
       "       [0.57752436],\n",
       "       [0.577306  ],\n",
       "       [0.57615703],\n",
       "       [0.5708945 ],\n",
       "       [0.56615853],\n",
       "       [0.5674642 ],\n",
       "       [0.559805  ],\n",
       "       [0.5537689 ],\n",
       "       [0.54802924]], dtype=float32)"
      ]
     },
     "execution_count": 56,
     "metadata": {},
     "output_type": "execute_result"
    }
   ],
   "source": [
    "newp"
   ]
  },
  {
   "cell_type": "code",
   "execution_count": 57,
   "metadata": {},
   "outputs": [
    {
     "data": {
      "text/plain": [
       "array([[0.37850477],\n",
       "       [0.67265978],\n",
       "       [0.700396  ],\n",
       "       [0.68939168],\n",
       "       [0.68928655],\n",
       "       [0.72260363],\n",
       "       [0.48816986],\n",
       "       [0.38640479],\n",
       "       [0.68497403],\n",
       "       [0.68787678],\n",
       "       [0.71409629],\n",
       "       [0.72348834],\n",
       "       [0.72928979],\n",
       "       [0.51485483],\n",
       "       [0.46043022],\n",
       "       [0.76188486],\n",
       "       [0.79066177],\n",
       "       [0.79059957],\n",
       "       [0.83421881],\n",
       "       [0.79350487],\n",
       "       [0.58549738],\n",
       "       [0.5101387 ],\n",
       "       [0.7895449 ],\n",
       "       [0.81429964],\n",
       "       [0.84872979],\n",
       "       [0.85698366],\n",
       "       [0.90100565],\n",
       "       [0.61226195],\n",
       "       [0.52844606],\n",
       "       [0.84336987],\n",
       "       [0.83258804],\n",
       "       [0.87393787],\n",
       "       [0.92772075],\n",
       "       [0.94907016],\n",
       "       [0.7291903 ],\n",
       "       [0.58812409],\n",
       "       [0.88558814],\n",
       "       [0.88669944],\n",
       "       [0.83304519],\n",
       "       [0.80425049],\n",
       "       [0.79474002],\n",
       "       [0.54623605],\n",
       "       [0.50160189],\n",
       "       [0.6171221 ],\n",
       "       [0.66085607],\n",
       "       [0.68332239],\n",
       "       [0.70993246],\n",
       "       [0.77183392],\n",
       "       [0.66734324],\n",
       "       [0.63960361],\n",
       "       [0.92017728],\n",
       "       [0.90195606],\n",
       "       [0.83480419],\n",
       "       [0.81961348],\n",
       "       [0.83325296],\n",
       "       [0.61301813],\n",
       "       [0.4524307 ],\n",
       "       [0.68381722],\n",
       "       [0.56330965],\n",
       "       [0.73902056],\n",
       "       [0.766601  ],\n",
       "       [0.77435455],\n",
       "       [0.58123893],\n",
       "       [0.47227031],\n",
       "       [0.80273814],\n",
       "       [0.83813432],\n",
       "       [0.89698127],\n",
       "       [0.89833807],\n",
       "       [0.80208147],\n",
       "       [0.49316459],\n",
       "       [0.42158677],\n",
       "       [0.73010567],\n",
       "       [0.64680316],\n",
       "       [0.60661582],\n",
       "       [0.6343199 ],\n",
       "       [0.64166267],\n",
       "       [0.45424154],\n",
       "       [0.39898116],\n",
       "       [0.67801315],\n",
       "       [0.66025909],\n",
       "       [0.65967896],\n",
       "       [0.65556992],\n",
       "       [0.68202893],\n",
       "       [0.50391021],\n",
       "       [0.41281118],\n",
       "       [0.64039958],\n",
       "       [0.66593039],\n",
       "       [0.62899727],\n",
       "       [0.64344417],\n",
       "       [0.615819  ],\n",
       "       [0.43456112],\n",
       "       [0.38453426],\n",
       "       [0.64742403],\n",
       "       [0.68492104],\n",
       "       [0.60437051],\n",
       "       [0.60887907],\n",
       "       [0.6215029 ],\n",
       "       [0.4582214 ],\n",
       "       [0.40656279],\n",
       "       [0.6772531 ],\n",
       "       [0.6802181 ],\n",
       "       [0.64167765],\n",
       "       [0.58834298],\n",
       "       [0.51624779],\n",
       "       [0.38976778],\n",
       "       [0.35353113],\n",
       "       [0.33198018],\n",
       "       [0.20237598],\n",
       "       [0.144071  ],\n",
       "       [0.20207749],\n",
       "       [0.26959585],\n",
       "       [0.31743379],\n",
       "       [0.34626788],\n",
       "       [0.47792172],\n",
       "       [0.62382345],\n",
       "       [0.59102939],\n",
       "       [0.56559807],\n",
       "       [0.54993732],\n",
       "       [0.39965773],\n",
       "       [0.35291425],\n",
       "       [0.57745806],\n",
       "       [0.582214  ],\n",
       "       [0.57582632],\n",
       "       [0.58623366],\n",
       "       [0.56149882],\n",
       "       [0.4006129 ],\n",
       "       [0.34391977],\n",
       "       [0.57602531],\n",
       "       [0.58119913],\n",
       "       [0.56408573],\n",
       "       [0.582015  ],\n",
       "       [0.5560862 ],\n",
       "       [0.39293177],\n",
       "       [0.34885479],\n",
       "       [0.58704953],\n",
       "       [0.57944799],\n",
       "       [0.5475892 ],\n",
       "       [0.56313056],\n",
       "       [0.55652399],\n",
       "       [0.40134917],\n",
       "       [0.35908304],\n",
       "       [0.58722862],\n",
       "       [0.57881122],\n",
       "       [0.55936959],\n",
       "       [0.57713967],\n",
       "       [0.58772611],\n",
       "       [0.4150399 ],\n",
       "       [0.37518158],\n",
       "       [0.6369968 ],\n",
       "       [0.63172348],\n",
       "       [0.66115456],\n",
       "       [0.68077528],\n",
       "       [0.70803733],\n",
       "       [0.5101387 ],\n",
       "       [0.45670905],\n",
       "       [0.75677074],\n",
       "       [0.76737707],\n",
       "       [0.77141663],\n",
       "       [0.77133703],\n",
       "       [0.78208266],\n",
       "       [0.54157961],\n",
       "       [0.44759517],\n",
       "       [0.75193521],\n",
       "       [0.75874077],\n",
       "       [0.71683283],\n",
       "       [0.77010328],\n",
       "       [0.78080911],\n",
       "       [0.54553957],\n",
       "       [0.4468191 ],\n",
       "       [0.80632002],\n",
       "       [0.83756194],\n",
       "       [0.84072593],\n",
       "       [0.82532386],\n",
       "       [0.8529839 ],\n",
       "       [0.59703898],\n",
       "       [0.50217897],\n",
       "       [0.89948859],\n",
       "       [0.92531789],\n",
       "       [0.92587507],\n",
       "       [0.93689929],\n",
       "       [0.90567727],\n",
       "       [0.63928522],\n",
       "       [0.55839452],\n",
       "       [0.91674129],\n",
       "       [0.90422462],\n",
       "       [0.91556723],\n",
       "       [0.89799614],\n",
       "       [0.86253557],\n",
       "       [0.56607566],\n",
       "       [0.48828926],\n",
       "       [0.55188745],\n",
       "       [0.8530237 ],\n",
       "       [0.89893141],\n",
       "       [0.89429487],\n",
       "       [0.80456888],\n",
       "       [0.51768054],\n",
       "       [0.47125545],\n",
       "       [0.46526576],\n",
       "       [0.80823035],\n",
       "       [0.85567031],\n",
       "       [0.90070245],\n",
       "       [0.8732613 ],\n",
       "       [0.59176567],\n",
       "       [0.51069588],\n",
       "       [0.88050465],\n",
       "       [0.90322966],\n",
       "       [0.92022367],\n",
       "       [0.96457923],\n",
       "       [0.98943347],\n",
       "       [0.67814857],\n",
       "       [0.5476688 ],\n",
       "       [0.83165184],\n",
       "       [0.87453485],\n",
       "       [0.8358506 ],\n",
       "       [0.8155533 ],\n",
       "       [0.81334448],\n",
       "       [0.57805504],\n",
       "       [0.50052733],\n",
       "       [0.83479593],\n",
       "       [0.93427258],\n",
       "       [0.977076  ],\n",
       "       [0.99629873],\n",
       "       [1.        ],\n",
       "       [0.70948998],\n",
       "       [0.59164627],\n",
       "       [0.95194317],\n",
       "       [0.95576383],\n",
       "       [0.92533779],\n",
       "       [0.89865282],\n",
       "       [0.91411458],\n",
       "       [0.67500448],\n",
       "       [0.61582393],\n",
       "       [0.97430999],\n",
       "       [0.99687581],\n",
       "       [0.99731359],\n",
       "       [0.96756413],\n",
       "       [0.92000478],\n",
       "       [0.64624998],\n",
       "       [0.59248204],\n",
       "       [0.95562454],\n",
       "       [0.90356795],\n",
       "       [0.7810081 ],\n",
       "       [0.48590134],\n",
       "       [0.37747   ],\n",
       "       [0.41993513],\n",
       "       [0.44590373],\n",
       "       [0.755139  ],\n",
       "       [0.81420015],\n",
       "       [0.82828886],\n",
       "       [0.81708555],\n",
       "       [0.80530516],\n",
       "       [0.5475096 ],\n",
       "       [0.48237916],\n",
       "       [0.75402464],\n",
       "       [0.76723778],\n",
       "       [0.78319702],\n",
       "       [0.59626291],\n",
       "       [0.74958709],\n",
       "       [0.51354148],\n",
       "       [0.4004338 ],\n",
       "       [0.76884962],\n",
       "       [0.7088134 ],\n",
       "       [0.74045331],\n",
       "       [0.79778322],\n",
       "       [0.73941854],\n",
       "       [0.51067598],\n",
       "       [0.41822379],\n",
       "       [0.69382922],\n",
       "       [0.64181243],\n",
       "       [0.58297017],\n",
       "       [0.64493662],\n",
       "       [0.6715221 ],\n",
       "       [0.46130579],\n",
       "       [0.38923049],\n",
       "       [0.6771934 ],\n",
       "       [0.67297475],\n",
       "       [0.7811076 ],\n",
       "       [0.69281436],\n",
       "       [0.66597019],\n",
       "       [0.45637076],\n",
       "       [0.37309215],\n",
       "       [0.6109685 ],\n",
       "       [0.57425427],\n",
       "       [0.54333075],\n",
       "       [0.56506079],\n",
       "       [0.53700277],\n",
       "       [0.37398762],\n",
       "       [0.35088452],\n",
       "       [0.5389131 ],\n",
       "       [0.54900205],\n",
       "       [0.58832309],\n",
       "       [0.63192247],\n",
       "       [0.60776471],\n",
       "       [0.44072991],\n",
       "       [0.38497204],\n",
       "       [0.58474121],\n",
       "       [0.55238493],\n",
       "       [0.53268462],\n",
       "       [0.55387738],\n",
       "       [0.54902195]])"
      ]
     },
     "execution_count": 57,
     "metadata": {},
     "output_type": "execute_result"
    }
   ],
   "source": [
    "newy_test"
   ]
  },
  {
   "cell_type": "code",
   "execution_count": 54,
   "metadata": {},
   "outputs": [
    {
     "name": "stdout",
     "output_type": "stream",
     "text": [
      "Train Score: 0.01327 MSE (0.12 RMSE)\n",
      "Test Score: 0.02547 MSE (0.16 RMSE)\n"
     ]
    },
    {
     "data": {
      "text/plain": [
       "(0.01327340087474021, 0.025470010122905173)"
      ]
     },
     "execution_count": 54,
     "metadata": {},
     "output_type": "execute_result"
    }
   ],
   "source": [
    "def model_score(model, X_train, y_train, X_test, y_test):\n",
    "    trainScore = model.evaluate(X_train, y_train, verbose=0)\n",
    "    print('Train Score: %.5f MSE (%.2f RMSE)' % (trainScore[0], math.sqrt(trainScore[0])))\n",
    "\n",
    "    testScore = model.evaluate(X_test, y_test, verbose=0)\n",
    "    print('Test Score: %.5f MSE (%.2f RMSE)' % (testScore[0], math.sqrt(testScore[0])))\n",
    "    return trainScore[0], testScore[0]\n",
    "\n",
    "\n",
    "model_score(model, X_train, y_train, X_test, y_test)"
   ]
  },
  {
   "cell_type": "code",
   "execution_count": null,
   "metadata": {},
   "outputs": [],
   "source": []
  },
  {
   "cell_type": "code",
   "execution_count": 55,
   "metadata": {},
   "outputs": [
    {
     "data": {
      "image/png": "[encoded data removed]",
      "text/plain": [
       "<Figure size 1152x648 with 1 Axes>"
      ]
     },
     "metadata": {},
     "output_type": "display_data"
    }
   ],
   "source": [
    "import matplotlib.pyplot as plt2\n",
    "\n",
    "plt2.figure(figsize = (16,9))\n",
    "plt2.plot(newp,color='red', label='Prediction')\n",
    "plt2.plot(newy_test,color='blue', label='Actual')\n",
    "plt2.legend(loc='best')\n",
    "plt2.show()"
   ]
  },
  {
   "cell_type": "code",
   "execution_count": null,
   "metadata": {},
   "outputs": [],
   "source": []
  }
 ],
 "metadata": {
  "kernelspec": {
   "display_name": "Python 3",
   "language": "python",
   "name": "python3"
  },
  "language_info": {
   "codemirror_mode": {
    "name": "ipython",
    "version": 3
   },
   "file_extension": ".py",
   "mimetype": "text/x-python",
   "name": "python",
   "nbconvert_exporter": "python",
   "pygments_lexer": "ipython3",
   "version": "3.6.4"
  }
 },
 "nbformat": 4,
 "nbformat_minor": 2
}
